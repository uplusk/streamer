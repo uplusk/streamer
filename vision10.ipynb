{
 "cells": [
  {
   "cell_type": "markdown",
   "metadata": {},
   "source": [
    "# First, we create a listener class to stream tweets, get the json's and write them into a file called tweets.txt.\n",
    "For that we need tweepy(which is a twitter library) and simplejson(which is a json parser)."
   ]
  },
  {
   "cell_type": "code",
   "execution_count": 49,
   "metadata": {},
   "outputs": [],
   "source": [
    "import tweepy \n",
    "import simplejson as json\n",
    "tweet_list=[]\n",
    "class StreamListener(tweepy.StreamListener):\n",
    "    \n",
    "    def __init__(self, api=None):\n",
    "        super(StreamListener, self).__init__()\n",
    "        self.num_tweets=0\n",
    "        self.file=open('tweets.txt','w')\n",
    "    def on_status(self, status): \n",
    "        tweet= status._json\n",
    "        self.file.write(json.dumps(tweet)+ '\\n')\n",
    "        tweet_list.append(status)\n",
    "        self.num_tweets+=1\n",
    "        if self.num_tweets <1000:\n",
    "            return True\n",
    "        else :\n",
    "            return False\n",
    "        self.file.close()\n",
    "        \n",
    "    \n",
    "        "
   ]
  },
  {
   "cell_type": "markdown",
   "metadata": {},
   "source": [
    "# Now we define a function which converts the status into json format, and writes them into a file line by line.\n",
    "Since the number of tweets that can be streamed is 3200 per request, we still stream about 500 tweets only, coz 3200 is a lot, right?"
   ]
  },
  {
   "cell_type": "markdown",
   "metadata": {},
   "source": [
    "# Now twitter allows users who have twitter accounts to use their api only, hence authentication using an Oauth token is a must.\n",
    "We need these four keys listed below."
   ]
  },
  {
   "cell_type": "code",
   "execution_count": 50,
   "metadata": {},
   "outputs": [],
   "source": [
    "access_token = ''\n",
    "access_token_secret=''\n",
    "consumer_key = ''\n",
    "consumer_key_secret=''"
   ]
  },
  {
   "cell_type": "code",
   "execution_count": 51,
   "metadata": {},
   "outputs": [],
   "source": [
    "auth = tweepy.OAuthHandler(consumer_key, consumer_key_secret)\n",
    "auth.set_access_token(access_token, access_token_secret)"
   ]
  },
  {
   "cell_type": "markdown",
   "metadata": {},
   "source": [
    "# Now we just need to create an instance of that class and start streaming!"
   ]
  },
  {
   "cell_type": "code",
   "execution_count": 52,
   "metadata": {},
   "outputs": [],
   "source": [
    "l= StreamListener()\n",
    "stream= tweepy.Stream(auth, l)"
   ]
  },
  {
   "cell_type": "markdown",
   "metadata": {},
   "source": [
    "Now here comes the fun part. We are going to filter tweets using keywords. I am going to search for words which are on everyone's mouths right now haha.\n",
    "# 'Bitcoin, Ethereum, Bubble, Blockchain.'"
   ]
  },
  {
   "cell_type": "code",
   "execution_count": 53,
   "metadata": {},
   "outputs": [],
   "source": [
    "stream.filter(track=['bitcoin','ethereum','bubble','blockchain'], languages=[\"en\"])"
   ]
  },
  {
   "cell_type": "markdown",
   "metadata": {},
   "source": [
    "# Load and Explore your streamed and filtered tweets"
   ]
  },
  {
   "cell_type": "code",
   "execution_count": 54,
   "metadata": {},
   "outputs": [],
   "source": [
    "tweets_data_path='tweets.txt'\n",
    "tweets_data=[]\n",
    "tweets_file=open(tweets_data_path,'r')\n"
   ]
  },
  {
   "cell_type": "markdown",
   "metadata": {},
   "source": [
    "# Convert these Raw Json's into strings and append all the tweets in an empty array. We can check for the keys of this dict.(Yes python stores json's as dicts)"
   ]
  },
  {
   "cell_type": "code",
   "execution_count": 56,
   "metadata": {},
   "outputs": [
    {
     "name": "stdout",
     "output_type": "stream",
     "text": [
      "['quote_count', 'contributors', 'truncated', 'text', 'is_quote_status', 'in_reply_to_status_id', 'reply_count', 'id', 'favorite_count', 'source', 'retweeted', 'coordinates', 'timestamp_ms', 'entities', 'in_reply_to_screen_name', 'in_reply_to_user_id', 'retweet_count', 'id_str', 'favorited', 'retweeted_status', 'user', 'geo', 'in_reply_to_user_id_str', 'possibly_sensitive', 'lang', 'created_at', 'filter_level', 'in_reply_to_status_id_str', 'place']\n"
     ]
    }
   ],
   "source": [
    "for line in tweets_file:\n",
    "    tweet=json.loads(line)\n",
    "    tweets_data.append(tweet)\n",
    "\n",
    "tweets_file.close()\n",
    "print(tweets_data[0].keys())"
   ]
  },
  {
   "cell_type": "markdown",
   "metadata": {},
   "source": [
    "# Now for some twitter text analysis, convert these dicts into dataframes using pandas. "
   ]
  },
  {
   "cell_type": "code",
   "execution_count": 60,
   "metadata": {},
   "outputs": [
    {
     "name": "stdout",
     "output_type": "stream",
     "text": [
      "                                                text lang\n",
      "0  RT @RT_com: Bitcoin drops below $6,300, losing...   en\n",
      "1  RT @Forbes: Bitcoin Cash Skyrockets, Bitcoin P...   en\n",
      "2  RT @bitcoinpoet: Red Pill’s ICO Pre-Sale Is Go...   en\n",
      "3  RT @everexio: Bitcoin Cash Update: We've liqui...   en\n",
      "4  RT @flibbr: Full breakdown of the Roger 25k bt...   en\n"
     ]
    }
   ],
   "source": [
    "import pandas as pd\n",
    "df= pd.DataFrame(tweets_data, columns=['text', 'lang'])\n",
    "print df.head()"
   ]
  },
  {
   "cell_type": "markdown",
   "metadata": {},
   "source": [
    "# Now we define a function which matches our filtered words from these dataframes. Like a simple search."
   ]
  },
  {
   "cell_type": "code",
   "execution_count": 61,
   "metadata": {},
   "outputs": [],
   "source": [
    "import re\n",
    "\n",
    "def word_in_tweet(word, tweet):\n",
    "    word = word.lower()\n",
    "    text = tweet.lower()\n",
    "    match = re.search(word, tweet)\n",
    "\n",
    "    if match:\n",
    "        return True\n",
    "    return False"
   ]
  },
  {
   "cell_type": "markdown",
   "metadata": {},
   "source": [
    "# We are incrementing the number of times that particular word was used by iterating over every row of that dataframe under the coumn 'text'"
   ]
  },
  {
   "cell_type": "code",
   "execution_count": 63,
   "metadata": {},
   "outputs": [],
   "source": [
    "[bitcoin, ethereum, bubble, blockchain] =[0,0,0,0]\n",
    "for index, row in df.iterrows():\n",
    "    bitcoin += word_in_tweet('bitcoin', row['text'] )\n",
    "    ethereum += word_in_tweet('ethereum', row['text'])\n",
    "    bubble += word_in_tweet('bubble', row['text'])\n",
    "    blockchain += word_in_tweet('blockchain', row['text'])\n"
   ]
  },
  {
   "cell_type": "code",
   "execution_count": 67,
   "metadata": {},
   "outputs": [
    {
     "data": {
      "image/png": "[encoded data removed]",
      "text/plain": [
       "<matplotlib.figure.Figure at 0x1651fda0>"
      ]
     },
     "metadata": {},
     "output_type": "display_data"
    }
   ],
   "source": [
    "import matplotlib.pyplot as plt\n",
    "lab= ['bitcoin','ethereum', 'bubble', 'blockchain']\n",
    "\n",
    "plt.bar(lab, [bitcoin, ethereum, bubble, blockchain])\n",
    "plt.xticks(['bitcoin', 'ethereum', 'bubble', 'blockchain'] )\n",
    "plt.ylabel('Count')\n",
    "plt.title('Cryptomania')\n",
    "plt.show()\n"
   ]
  },
  {
   "cell_type": "code",
   "execution_count": null,
   "metadata": {},
   "outputs": [],
   "source": []
  }
 ],
 "metadata": {
  "kernelspec": {
   "display_name": "Python 2",
   "language": "python",
   "name": "python2"
  },
  "language_info": {
   "codemirror_mode": {
    "name": "ipython",
    "version": 2
   },
   "file_extension": ".py",
   "mimetype": "text/x-python",
   "name": "python",
   "nbconvert_exporter": "python",
   "pygments_lexer": "ipython2",
   "version": "2.7.14"
  }
 },
 "nbformat": 4,
 "nbformat_minor": 2
}
